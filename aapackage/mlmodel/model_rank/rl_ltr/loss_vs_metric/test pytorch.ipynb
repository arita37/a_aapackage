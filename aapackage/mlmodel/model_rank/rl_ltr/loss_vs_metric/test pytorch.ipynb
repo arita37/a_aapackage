{
 "cells": [
  {
   "cell_type": "code",
   "execution_count": 12,
   "metadata": {},
   "outputs": [
    {
     "name": "stdout",
     "output_type": "stream",
     "text": [
      "0.0\n",
      "1\n",
      "starts\n",
      "Variable containing:\n",
      " 2.7183\n",
      " 2.7183\n",
      " 2.7183\n",
      " 0.0000\n",
      "[torch.FloatTensor of size 4]\n",
      "\n",
      "1\n",
      "Variable containing:\n",
      "-1.0986\n",
      "[torch.FloatTensor of size 1]\n",
      "\n",
      "Variable containing:\n",
      " 2.7183\n",
      " 0.0000\n",
      " 2.7183\n",
      " 0.0000\n",
      "[torch.FloatTensor of size 4]\n",
      "\n",
      "0\n",
      "Variable containing:\n",
      "-0.6931\n",
      "[torch.FloatTensor of size 1]\n",
      "\n",
      "Variable containing:\n",
      " 0.0000\n",
      " 0.0000\n",
      " 2.7183\n",
      " 0.0000\n",
      "[torch.FloatTensor of size 4]\n",
      "\n",
      "2\n",
      "Variable containing:\n",
      " 0\n",
      "[torch.FloatTensor of size 1]\n",
      "\n"
     ]
    }
   ],
   "source": [
    "import re\n",
    "import torch\n",
    "import argparse\n",
    "import torch.nn as nn\n",
    "from torch.autograd import Variable\n",
    "import utils\n",
    "import numpy as np\n",
    "import os\n",
    "import time\n",
    "score=Variable(torch.Tensor([1,1,1,30]))\n",
    "score_exp=score.squeeze().exp()\n",
    "order_as_score = torch.zeros([1,4])\n",
    "print order_as_score[0,1]\n",
    "log_pi = Variable(torch.zeros([1,4]))\n",
    "# m = nn.LogSoftmax()\n",
    "M=3\n",
    "n=4\n",
    "print score.dim()\n",
    "query=0\n",
    "masks=Variable(torch.cat((torch.ones(M),torch.zeros(n-M))).expand(M,n))\n",
    "\n",
    "print \"starts\"\n",
    "for t in range(0, M):\n",
    "#     lsm=m(score)\n",
    "#     print masks[t]\n",
    "    \n",
    "#     print score_exp\n",
    "#     print masks[t]\n",
    "#     print score_exp.data*masks[t]\n",
    "    \n",
    "    \n",
    "    \n",
    "\n",
    "    selected_doc_id = torch.multinomial(score_exp*masks[t]).data.numpy()[0]\n",
    "    \n",
    "    order_as_score[query, selected_doc_id] = M - t\n",
    "    log_pi[query, t] = torch.log(score_exp[selected_doc_id] / torch.sum(score_exp*masks[t]))\n",
    "    \n",
    "    print score_exp*masks[t]\n",
    "    print selected_doc_id\n",
    "    print log_pi[query, t]\n",
    "    \n",
    "    score_exp[selected_doc_id] = 0\n",
    "\n",
    "    if t<M-1:\n",
    "        masks[t+1,selected_doc_id]=0\n",
    "    \n"
   ]
  },
  {
   "cell_type": "code",
   "execution_count": null,
   "metadata": {
    "collapsed": true
   },
   "outputs": [],
   "source": []
  },
  {
   "cell_type": "code",
   "execution_count": null,
   "metadata": {
    "collapsed": true
   },
   "outputs": [],
   "source": []
  },
  {
   "cell_type": "code",
   "execution_count": null,
   "metadata": {
    "collapsed": true
   },
   "outputs": [],
   "source": []
  },
  {
   "cell_type": "code",
   "execution_count": null,
   "metadata": {
    "collapsed": true
   },
   "outputs": [],
   "source": []
  },
  {
   "cell_type": "code",
   "execution_count": null,
   "metadata": {
    "collapsed": true
   },
   "outputs": [],
   "source": []
  },
  {
   "cell_type": "code",
   "execution_count": null,
   "metadata": {
    "collapsed": true
   },
   "outputs": [],
   "source": []
  },
  {
   "cell_type": "code",
   "execution_count": null,
   "metadata": {
    "collapsed": true
   },
   "outputs": [],
   "source": []
  },
  {
   "cell_type": "code",
   "execution_count": null,
   "metadata": {
    "collapsed": true
   },
   "outputs": [],
   "source": []
  },
  {
   "cell_type": "code",
   "execution_count": null,
   "metadata": {
    "collapsed": true
   },
   "outputs": [],
   "source": []
  }
 ],
 "metadata": {
  "kernelspec": {
   "display_name": "Python 2",
   "language": "python",
   "name": "python2"
  },
  "language_info": {
   "codemirror_mode": {
    "name": "ipython",
    "version": 2
   },
   "file_extension": ".py",
   "mimetype": "text/x-python",
   "name": "python",
   "nbconvert_exporter": "python",
   "pygments_lexer": "ipython2",
   "version": "2.7.13"
  }
 },
 "nbformat": 4,
 "nbformat_minor": 2
}
