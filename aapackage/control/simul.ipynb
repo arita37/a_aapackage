{
 "cells": [
  {
   "cell_type": "code",
   "execution_count": 1,
   "metadata": {
    "collapsed": true
   },
   "outputs": [],
   "source": [
    "%load_ext autoreload\n",
    "%autoreload 2\n",
    "\n",
    "from math import sqrt, exp, log\n",
    "from scipy.linalg import cholesky\n",
    "import scipy as sp\n",
    "import numpy as np\n",
    "import numexpr as ne\n",
    "import pandas as pd\n",
    "from scipy.stats import random_correlation\n",
    "\n"
   ]
  },
  {
   "cell_type": "code",
   "execution_count": 2,
   "metadata": {},
   "outputs": [
    {
     "name": "stdout",
     "output_type": "stream",
     "text": [
      "<module 'utils' from '/home/ubuntu/aagit/aapackage/aapackage/control/utils.py'>\n"
     ]
    }
   ],
   "source": [
    "import utils; print(utils)\n",
    "from utils import *"
   ]
  },
  {
   "cell_type": "code",
   "execution_count": 4,
   "metadata": {},
   "outputs": [
    {
     "name": "stdout",
     "output_type": "stream",
     "text": [
      "<module 'utils' from '/home/ubuntu/aagit/aapackage/aapackage/control/utils.py'>\n"
     ]
    }
   ],
   "source": []
  },
  {
   "cell_type": "code",
   "execution_count": 3,
   "metadata": {
    "collapsed": true
   },
   "outputs": [],
   "source": [
    "nasset = 2\n",
    "nsimul=1\n",
    "nstep= 10\n",
    "T=5\n",
    "s0  = np.ones((nasset))*100.0\n",
    "vol0  = np.ones((nasset,1))*100.0\n",
    "drift = 0.01\n",
    "correl = np.identity(nasset) \n",
    "\n",
    "\n",
    "\n",
    "\n"
   ]
  },
  {
   "cell_type": "code",
   "execution_count": 9,
   "metadata": {},
   "outputs": [
    {
     "name": "stdout",
     "output_type": "stream",
     "text": [
      "(2, 9, 1)\n"
     ]
    },
    {
     "data": {
      "text/plain": [
       "(array([[[100.,   0.,   0.,   0.,   0.,   0.,   0.,   0.,   0.,   0.],\n",
       "         [100.,   0.,   0.,   0.,   0.,   0.,   0.,   0.,   0.,   0.]]]),\n",
       " array([[  -8.77637641,  -42.54748475,  137.53682717, -168.88726682,\n",
       "          -47.10230513,  -38.07147154,   57.42682276,  119.05034524,\n",
       "          104.97820688],\n",
       "        [  63.46023596,  -59.94989991, -117.27636614,  -27.92933977,\n",
       "          223.41711701,   79.51359813, -163.32033491,  -23.00418847,\n",
       "          114.30076541]]),\n",
       " array([[-0.08776376, -0.42547485,  1.37536827, -1.68887267, -0.47102305,\n",
       "         -0.38071472,  0.57426823,  1.19050345,  1.04978207],\n",
       "        [ 0.63460236, -0.599499  , -1.17276366, -0.2792934 ,  2.23417117,\n",
       "          0.79513598, -1.63320335, -0.23004188,  1.14300765]]),\n",
       " array([[1., 0.],\n",
       "        [0., 1.]]))"
      ]
     },
     "execution_count": 9,
     "metadata": {},
     "output_type": "execute_result"
    }
   ],
   "source": [
    " gbm_multi(nsimul, nasset, nstep, T, s0, vol0, drift, \n",
    "              correl, choice=0)\n",
    "    \n",
    "\n",
    "    \n",
    "    "
   ]
  },
  {
   "cell_type": "code",
   "execution_count": null,
   "metadata": {
    "collapsed": true
   },
   "outputs": [],
   "source": []
  },
  {
   "cell_type": "code",
   "execution_count": null,
   "metadata": {
    "collapsed": true
   },
   "outputs": [],
   "source": []
  },
  {
   "cell_type": "code",
   "execution_count": null,
   "metadata": {
    "collapsed": true
   },
   "outputs": [],
   "source": []
  },
  {
   "cell_type": "code",
   "execution_count": null,
   "metadata": {
    "collapsed": true
   },
   "outputs": [],
   "source": []
  },
  {
   "cell_type": "code",
   "execution_count": null,
   "metadata": {
    "collapsed": true
   },
   "outputs": [],
   "source": []
  },
  {
   "cell_type": "code",
   "execution_count": null,
   "metadata": {
    "collapsed": true
   },
   "outputs": [],
   "source": []
  },
  {
   "cell_type": "code",
   "execution_count": null,
   "metadata": {
    "collapsed": true
   },
   "outputs": [],
   "source": []
  },
  {
   "cell_type": "code",
   "execution_count": null,
   "metadata": {
    "collapsed": true
   },
   "outputs": [],
   "source": []
  },
  {
   "cell_type": "code",
   "execution_count": null,
   "metadata": {
    "collapsed": true
   },
   "outputs": [],
   "source": []
  },
  {
   "cell_type": "code",
   "execution_count": null,
   "metadata": {
    "collapsed": true
   },
   "outputs": [],
   "source": []
  },
  {
   "cell_type": "code",
   "execution_count": null,
   "metadata": {
    "collapsed": true
   },
   "outputs": [],
   "source": []
  },
  {
   "cell_type": "code",
   "execution_count": null,
   "metadata": {
    "collapsed": true
   },
   "outputs": [],
   "source": []
  },
  {
   "cell_type": "code",
   "execution_count": null,
   "metadata": {
    "collapsed": true
   },
   "outputs": [],
   "source": []
  },
  {
   "cell_type": "code",
   "execution_count": null,
   "metadata": {
    "collapsed": true
   },
   "outputs": [],
   "source": []
  },
  {
   "cell_type": "code",
   "execution_count": null,
   "metadata": {
    "collapsed": true
   },
   "outputs": [],
   "source": []
  },
  {
   "cell_type": "code",
   "execution_count": null,
   "metadata": {
    "collapsed": true
   },
   "outputs": [],
   "source": []
  }
 ],
 "metadata": {
  "kernelspec": {
   "display_name": "Python [conda env:py36c]",
   "language": "python",
   "name": "conda-env-py36c-py"
  },
  "language_info": {
   "codemirror_mode": {
    "name": "ipython",
    "version": 3
   },
   "file_extension": ".py",
   "mimetype": "text/x-python",
   "name": "python",
   "nbconvert_exporter": "python",
   "pygments_lexer": "ipython3",
   "version": "3.6.7"
  }
 },
 "nbformat": 4,
 "nbformat_minor": 2
}
